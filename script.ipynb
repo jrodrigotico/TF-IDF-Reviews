{
 "cells": [
  {
   "cell_type": "markdown",
   "metadata": {},
   "source": [
    "## Pacotes"
   ]
  },
  {
   "cell_type": "code",
   "execution_count": null,
   "metadata": {},
   "outputs": [],
   "source": [
    "import pandas as pd\n",
    "import numpy as np\n",
    "from sklearn.feature_extraction.text import TfidfVectorizer\n",
    "from sklearn.feature_extraction.text import TfidfTransformer\n",
    "import nltk\n",
    "from nltk.corpus import stopwords\n",
    "import re"
   ]
  },
  {
   "cell_type": "markdown",
   "metadata": {},
   "source": [
    "## Conjunto de dados\n",
    "Fonte COD: https://www.kaggle.com/datasets/beridzeg45/steam-reviews"
   ]
  },
  {
   "cell_type": "code",
   "execution_count": null,
   "metadata": {},
   "outputs": [],
   "source": [
    "\n",
    "dados_cod = pd.read_csv('https://raw.githubusercontent.com/jrodrigotico/TF-IDF-Reviews/main/steam_reviews.csv')\n",
    "dados_cod.columns = ['indice','jogo','data_lancamento','avaliacao_texto','avaliacao_nota','recomendavel','horas']\n"
   ]
  },
  {
   "cell_type": "markdown",
   "metadata": {},
   "source": [
    "## Tratamento dos dados\n",
    "##### Retirada de pontuação\n",
    "Será utilizado 'sub' do módulo 're'. A expressãoi regular utilizada, r'[^\\w\\s], corresponde a qualquer caracter que nao seja letra ou número. O ^ indica negação, '\\w' indica qualquer caracter alfanumérico (letras e números), '\\s' indica qualquer espaço em branco.\n",
    "\n",
    "##### Retirada de 'stopwords'\n",
    "Será considerada as stopwords em Inglês e será utilizado: nltk.corpus.stopwords.words('english').\n",
    "\n",
    "##### Stemming\n",
    "\n",
    "! Será criada um nova coluna ('avaliacao_new') que representa as avaliações ('avaliacao_texto') sem qualquer tipo de pontuação e stopwords !"
   ]
  },
  {
   "cell_type": "code",
   "execution_count": null,
   "metadata": {},
   "outputs": [],
   "source": [
    "# Retirada pontuacao\n",
    "def retirar_pontuacao(texto):\n",
    "    return re.sub(r'[^\\w\\s]','', texto)\n",
    "\n",
    "dados_cod['avaliacao_new'] = dados_cod['avaliacao_texto'].apply(func = retirar_pontuacao)\n",
    "\n",
    "\n",
    "# Retirada de 'stopwords'\n",
    "stopwords = set(nltk.corpus.stopwords.words('english'))\n"
   ]
  }
 ],
 "metadata": {
  "language_info": {
   "name": "python"
  }
 },
 "nbformat": 4,
 "nbformat_minor": 2
}
