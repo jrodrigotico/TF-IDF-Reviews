{
 "cells": [
  {
   "cell_type": "markdown",
   "metadata": {},
   "source": [
    "## Pacotes"
   ]
  },
  {
   "cell_type": "code",
   "execution_count": 146,
   "metadata": {},
   "outputs": [],
   "source": [
    "import pandas as pd\n",
    "import os\n",
    "import numpy as np\n",
    "from sklearn.feature_extraction.text import TfidfVectorizer\n",
    "from sklearn.feature_extraction.text import TfidfTransformer\n",
    "import nltk\n",
    "from nltk.corpus import stopwords\n",
    "from nltk.stem import PorterStemmer\n",
    "from nltk.tokenize import word_tokenize\n",
    "import seaborn as sns\n",
    "import re\n",
    "from sklearn.cluster import KMeans\n",
    "from sklearn.preprocessing import StandardScaler\n",
    "from sklearn.metrics import silhouette_samples, silhouette_score\n",
    "from sklearn.model_selection import train_test_split\n",
    "from sklearn.naive_bayes import MultinomialNB\n",
    "from sklearn.naive_bayes import BernoulliNB\n",
    "from sklearn.metrics import accuracy_score\n",
    "from sklearn.metrics import classification_report\n",
    "import random"
   ]
  },
  {
   "cell_type": "markdown",
   "metadata": {},
   "source": [
    "# Diretório\n"
   ]
  },
  {
   "cell_type": "code",
   "execution_count": 147,
   "metadata": {},
   "outputs": [],
   "source": [
    "diretorio = r'C:\\Users\\JoãoPinheiro\\OneDrive - CTI Global\\Área de Trabalho\\dados_reviews'\n",
    "diretorio = diretorio.replace('\\\\','/')\n",
    "os.chdir(diretorio)\n"
   ]
  },
  {
   "cell_type": "markdown",
   "metadata": {},
   "source": [
    "# Conjunto de dados\n",
    "https://www.kaggle.com/datasets/kmldas/apple-iphone-se-reviews-ratings\n"
   ]
  },
  {
   "cell_type": "code",
   "execution_count": 148,
   "metadata": {},
   "outputs": [
    {
     "data": {
      "text/plain": [
       "Index(['Ratings', 'Comment', 'Reviews'], dtype='object')"
      ]
     },
     "execution_count": 148,
     "metadata": {},
     "output_type": "execute_result"
    }
   ],
   "source": [
    "dados = pd.read_csv('https://raw.githubusercontent.com/jrodrigotico/TF-IDF-Reviews/main/iphone_se.csv')\n",
    "dados.columns"
   ]
  },
  {
   "cell_type": "markdown",
   "metadata": {},
   "source": [
    "# Renomeação de colunas\n"
   ]
  },
  {
   "cell_type": "code",
   "execution_count": 149,
   "metadata": {},
   "outputs": [],
   "source": [
    "dados = dados[['Ratings','Comment']]\n",
    "dados.columns = ['score','avaliacao_texto']\n",
    "dados['avaliacao_texto'] = dados['avaliacao_texto'].astype('string')\n",
    "\n"
   ]
  },
  {
   "cell_type": "markdown",
   "metadata": {},
   "source": [
    "## Tratamento dos dados\n"
   ]
  },
  {
   "cell_type": "code",
   "execution_count": 150,
   "metadata": {},
   "outputs": [],
   "source": [
    "# Retirando linhas sem review na coluna 'avaliacao_texto'\n",
    "dados.dropna(subset=['avaliacao_texto'], inplace=True)\n",
    "\n",
    "# Retirada de pontuação\n",
    "def retirar_pontuacao(texto):\n",
    "    return re.sub(r'[^\\w\\s]','', texto)\n",
    "\n",
    "dados['avaliacao_new'] = dados['avaliacao_texto'].apply(func = retirar_pontuacao)\n",
    "\n",
    "# Retirada de 'stopwords'\n",
    "stopwords = set(nltk.corpus.stopwords.words('english'))\n",
    "def retirar_stopwords(linha):\n",
    "    palavra_limpa = [i for i in linha.split() if i.lower() not in stopwords] # aqui resulta em uma nova lista # [expressao for item in iterable if condicao]\n",
    "    return ' '.join(palavra_limpa) # aqui as palavras sao separadas por espaço em branco\n",
    "\n",
    "dados['avaliacao_new'] = dados['avaliacao_new'].apply(func = retirar_stopwords) \n"
   ]
  },
  {
   "cell_type": "code",
   "execution_count": 151,
   "metadata": {},
   "outputs": [
    {
     "name": "stderr",
     "output_type": "stream",
     "text": [
      "[nltk_data] Downloading package punkt to\n",
      "[nltk_data]     C:\\Users\\JoãoPinheiro\\AppData\\Roaming\\nltk_data...\n",
      "[nltk_data]   Package punkt is already up-to-date!\n"
     ]
    }
   ],
   "source": [
    "# Stemming\n",
    "nltk.download('punkt')\n",
    "stemmer = PorterStemmer()\n",
    "\n",
    "def stemming(frase):\n",
    "    palavra_token = word_tokenize(frase) # tokenização, ou seja, faz a quebra os caracteres\n",
    "    palavra_stemming = [stemmer.stem(i) for i in palavra_token] # faz o stemming em cada palavra\n",
    "    return ' '.join(palavra_stemming)\n",
    "\n",
    "dados['avaliacao_new'] = dados['avaliacao_new'].apply(func = stemming)\n"
   ]
  },
  {
   "cell_type": "markdown",
   "metadata": {},
   "source": [
    "## Vetorização\n",
    "Cada linha da tabela 'tfidf_tabela' representa uma avaliação e cada coluna representa uma palavra.\n",
    "\n",
    "Aqui serão gerados os pesos de cada palavra em cada review."
   ]
  },
  {
   "cell_type": "code",
   "execution_count": 152,
   "metadata": {},
   "outputs": [],
   "source": [
    "vetor = TfidfVectorizer()\n",
    "tfidf = vetor.fit_transform(dados['avaliacao_new']) # o tfidf será usado no Naive-Bayes\n",
    "palavras = vetor.get_feature_names_out()\n",
    "tfidf_tabela = pd.DataFrame(tfidf.toarray(), columns = palavras)\n"
   ]
  },
  {
   "cell_type": "markdown",
   "metadata": {},
   "source": [
    "## Palavras mais frequentes\n",
    "São as palavras com maior peso.\n"
   ]
  },
  {
   "cell_type": "code",
   "execution_count": 153,
   "metadata": {},
   "outputs": [
    {
     "data": {
      "image/png": "[encoded data removed]",
      "text/plain": [
       "<Figure size 1500x800 with 1 Axes>"
      ]
     },
     "metadata": {},
     "output_type": "display_data"
    }
   ],
   "source": [
    "# Média de cada coluna e filtrando alguma quantidade de  palavras com maior média dos pesos em cada review\n",
    "mean = tfidf_tabela.mean(axis=0)\n",
    "\n",
    "def mean_top (numero):\n",
    "    mean_top = pd.DataFrame(round(mean.nlargest(numero),4), columns=['mean']).T\n",
    "    return sns.barplot(data = mean_top).figure.set_size_inches(15,8)\n",
    "\n",
    "# modificar número\n",
    "mean_top(10)\n"
   ]
  },
  {
   "cell_type": "markdown",
   "metadata": {},
   "source": [
    "# K-means\n",
    "Precisa-se chegar a um número ideal de clusters, plotar gráfico, analisar SSE."
   ]
  },
  {
   "cell_type": "code",
   "execution_count": 154,
   "metadata": {},
   "outputs": [],
   "source": [
    "# # Clusters (K-means) - método não-supervisionado\n",
    "# k = 10\n",
    "# kmeans = KMeans(n_clusters=k, random_state=111)\n",
    "# kmeans.fit(tfidf_tabela)\n",
    "# labels = kmeans.labels_\n",
    "# dados['etiquetas_cluster'] = labels\n"
   ]
  },
  {
   "cell_type": "markdown",
   "metadata": {},
   "source": [
    "# Naive Bayes Multinomial\n",
    "Indicado para casos em que a variável dependente não é binária. Nesse caso a variável 'score' é uma nota de 1 a 5."
   ]
  },
  {
   "cell_type": "code",
   "execution_count": 155,
   "metadata": {},
   "outputs": [],
   "source": [
    "# Base treino (80%) e teste (20%)\n",
    "y = dados['score']\n",
    "treino_x, teste_x, treino_y, teste_y = train_test_split(tfidf, y, test_size=0.2, random_state=111)"
   ]
  },
  {
   "cell_type": "code",
   "execution_count": 156,
   "metadata": {},
   "outputs": [
    {
     "name": "stdout",
     "output_type": "stream",
     "text": [
      "Acurácia:  0.9469891919711786\n",
      "              precision    recall  f1-score   support\n",
      "\n",
      "           1       0.99      0.89      0.94        98\n",
      "           2       0.95      0.84      0.89        44\n",
      "           3       0.82      0.64      0.72        94\n",
      "           4       0.87      0.90      0.89       354\n",
      "           5       0.97      0.99      0.98      1353\n",
      "\n",
      "    accuracy                           0.95      1943\n",
      "   macro avg       0.92      0.85      0.88      1943\n",
      "weighted avg       0.95      0.95      0.95      1943\n",
      "\n"
     ]
    }
   ],
   "source": [
    "naive_bayes = MultinomialNB()\n",
    "naive_bayes.fit(treino_x, treino_y)\n",
    "predicts = naive_bayes.predict(teste_x)\n",
    "\n",
    "acuracia = accuracy_score(teste_y, predicts)\n",
    "print('Acurácia: ', acuracia)\n",
    "\n",
    "relatorio = classification_report(teste_y, predicts)\n",
    "print(relatorio)"
   ]
  }
 ],
 "metadata": {
  "kernelspec": {
   "display_name": "Python 3",
   "language": "python",
   "name": "python3"
  },
  "language_info": {
   "codemirror_mode": {
    "name": "ipython",
    "version": 3
   },
   "file_extension": ".py",
   "mimetype": "text/x-python",
   "name": "python",
   "nbconvert_exporter": "python",
   "pygments_lexer": "ipython3",
   "version": "3.12.2"
  }
 },
 "nbformat": 4,
 "nbformat_minor": 2
}
