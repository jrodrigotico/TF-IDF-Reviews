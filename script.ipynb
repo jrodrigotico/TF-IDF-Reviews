{
 "cells": [
  {
   "cell_type": "markdown",
   "metadata": {},
   "source": [
    "## Pacotes"
   ]
  },
  {
   "cell_type": "code",
   "execution_count": 24,
   "metadata": {},
   "outputs": [],
   "source": [
    "import pandas as pd\n",
    "import numpy as np\n",
    "from sklearn.feature_extraction.text import TfidfVectorizer\n",
    "from sklearn.feature_extraction.text import TfidfTransformer\n",
    "import nltk\n",
    "from nltk.corpus import stopwords\n",
    "from nltk.stem import PorterStemmer\n",
    "from nltk.tokenize import word_tokenize\n",
    "import seaborn as sns\n",
    "import re"
   ]
  },
  {
   "cell_type": "markdown",
   "metadata": {},
   "source": [
    "## TD-IDF\n",
    "O 'Term Frequency — Inverse Document Frequency' tem o objetivo de calcular, estatisticamente, o peso de cada palavra, atribuindo assim, uma importância para cada palavra. \n",
    "\n",
    "Esses pesos podem ser utilizados posteriormente para: análise de sentimento, modelos de machine learning como 'Naive-Bayes', análises de similaridade, análise de clusters como K-means, entre outras aplicações."
   ]
  },
  {
   "cell_type": "markdown",
   "metadata": {},
   "source": [
    "## Conjunto de dados\n",
    "Fonte COD: https://www.kaggle.com/datasets/beridzeg45/steam-reviews"
   ]
  },
  {
   "cell_type": "code",
   "execution_count": 6,
   "metadata": {},
   "outputs": [],
   "source": [
    "dados_cod = pd.read_csv('https://raw.githubusercontent.com/jrodrigotico/TF-IDF-Reviews/main/reviews.csv')\n",
    "dados_cod.columns = ['indice','jogo','data_lancamento','avaliacao_texto','avaliacao_nota','recomendavel','horas']\n"
   ]
  },
  {
   "cell_type": "markdown",
   "metadata": {},
   "source": [
    "## Tratamento dos dados\n",
    "### Retirada de pontuação\n",
    "Será utilizado 'sub' do módulo 're'. A expressãoi regular utilizada, r'[^\\w\\s], corresponde a qualquer caracter que nao seja letra ou número. O ^ indica negação, '\\w' indica qualquer caracter alfanumérico (letras e números), '\\s' indica qualquer espaço em branco.\n",
    "\n",
    "### Retirada de 'stopwords'\n",
    "Será considerada as stopwords em Inglês e será utilizado: nltk.corpus.stopwords.words('english').\n",
    "\n",
    "### Stemming\n",
    "Redução das palavras para a forma 'raíz'. O stemming pode melhorar a precisçao da análise, por exemplo buscando palavras semelhantes e simplificando a análise do texto.\n",
    "\n",
    "! Será criada um nova coluna ('avaliacao_new') que representa as avaliações ('avaliacao_texto') reduzidas (stemmizadas) e sem qualquer tipo de pontuação ou stopwords !"
   ]
  },
  {
   "cell_type": "code",
   "execution_count": 7,
   "metadata": {},
   "outputs": [],
   "source": [
    "# Retirada pontuacao\n",
    "def retirar_pontuacao(texto):\n",
    "    return re.sub(r'[^\\w\\s]','', texto)\n",
    "\n",
    "dados_cod['avaliacao_new'] = dados_cod['avaliacao_texto'].apply(func = retirar_pontuacao)\n",
    "\n",
    "# Retirada de 'stopwords'\n",
    "stopwords = set(nltk.corpus.stopwords.words('english'))\n",
    "def retirar_stopwords(linha):\n",
    "    palavra_limpa = [i for i in linha.split() if i.lower() not in stopwords] # aqui resulta em uma nova lista # [expressao for item in iterable if condicao]\n",
    "    return ' '.join(palavra_limpa) # aqui as palavras sao separadas por espaço em branco\n",
    "\n",
    "dados_cod['avaliacao_new'] = dados_cod['avaliacao_new'].apply(func = retirar_stopwords) \n",
    "# usar para validar:\n",
    "# linha de index 2 , ver que o 'you' em 'avaliacao_texto' foi retirado na coluna 'avaliacao_new'\n",
    "# linha de index 5 , ver que o 'the' em 'avaliacao_texto' foi retirado na coluna 'avaliacao_new'\n",
    "# linha de index 8 , ver que o 'an' em 'avaliacao_texto' foi retirado na coluna 'avaliacao_new'\n",
    "\n"
   ]
  },
  {
   "cell_type": "code",
   "execution_count": 12,
   "metadata": {},
   "outputs": [
    {
     "name": "stderr",
     "output_type": "stream",
     "text": [
      "[nltk_data] Downloading package punkt to\n",
      "[nltk_data]     C:\\Users\\JoãoPinheiro\\AppData\\Roaming\\nltk_data...\n",
      "[nltk_data]   Package punkt is already up-to-date!\n"
     ]
    }
   ],
   "source": [
    "# Stemming\n",
    "nltk.download('punkt')\n",
    "stemmer = PorterStemmer()\n",
    "\n",
    "def stemming(frase):\n",
    "    palavra_token = word_tokenize(frase) # tokenização, ou seja, faz a quebra os caracteres\n",
    "    palavra_stemming = [stemmer.stem(i) for i in palavra_token] # faz o stemming em cada palavra\n",
    "    return ' '.join(palavra_stemming)\n",
    "\n",
    "dados_cod['avaliacao_new'] = dados_cod['avaliacao_new'].apply(func = stemming)\n"
   ]
  },
  {
   "cell_type": "markdown",
   "metadata": {},
   "source": [
    "## Vetorização\n",
    "Cada linha da tabela 'tfidf_tabela' representa uma avaliação e cada coluna representa uma palavra.\n",
    "\n",
    "Aqui serão gerados os pesos de cada palavra em cada review."
   ]
  },
  {
   "cell_type": "code",
   "execution_count": null,
   "metadata": {},
   "outputs": [],
   "source": [
    "vetor = TfidfVectorizer()\n",
    "tfidf = vetor.fit_transform(dados_cod['avaliacao_new'])\n",
    "palavras = vetor.get_feature_names_out()\n",
    "tfidf_tabela = pd.DataFrame(tfidf.toarray(), columns = palavras)\n",
    "tfidf_tabela\n"
   ]
  },
  {
   "cell_type": "markdown",
   "metadata": {},
   "source": [
    "## Palavras mais frequentes\n",
    "São as palavras com maior peso.\n"
   ]
  },
  {
   "cell_type": "code",
   "execution_count": 61,
   "metadata": {},
   "outputs": [
    {
     "data": {
      "image/png": "[encoded data removed]",
      "text/plain": [
       "<Figure size 1500x800 with 1 Axes>"
      ]
     },
     "metadata": {},
     "output_type": "display_data"
    }
   ],
   "source": [
    "# Média de cada coluna e filtrando as 5 palavras com maior média dos pesos em cada review\n",
    "mean = tfidf_tabela.mean(axis=0)\n",
    "\n",
    "def mean_top (numero):\n",
    "    mean_top = pd.DataFrame(round(mean.nlargest(numero),4), columns=['mean']).T\n",
    "    return sns.barplot(data = mean_top).figure.set_size_inches(15,8)\n",
    "\n",
    "# modificar número\n",
    "mean_top(20)\n",
    "\n",
    "\n",
    "\n",
    "\n"
   ]
  }
 ],
 "metadata": {
  "kernelspec": {
   "display_name": "Python 3",
   "language": "python",
   "name": "python3"
  },
  "language_info": {
   "codemirror_mode": {
    "name": "ipython",
    "version": 3
   },
   "file_extension": ".py",
   "mimetype": "text/x-python",
   "name": "python",
   "nbconvert_exporter": "python",
   "pygments_lexer": "ipython3",
   "version": "3.12.2"
  }
 },
 "nbformat": 4,
 "nbformat_minor": 2
}
